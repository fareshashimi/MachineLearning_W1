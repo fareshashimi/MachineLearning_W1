{
 "cells": [
  {
   "cell_type": "code",
   "execution_count": 1,
   "id": "2d99e092",
   "metadata": {},
   "outputs": [],
   "source": [
    "#this sign makes the comment line (#)\n",
    "#shift+enter to run the code and add another block of code\n",
    "#if you want to add a title,you should change code style to markdown\n",
    "#for bold header you can use this **title**"
   ]
  },
  {
   "cell_type": "markdown",
   "id": "4e4e2ca3",
   "metadata": {},
   "source": [
    "**MACINE LEARNING WEEK 1**"
   ]
  },
  {
   "cell_type": "markdown",
   "id": "eebbd38e",
   "metadata": {},
   "source": [
    "**SOME BASIC EXAMPLES**"
   ]
  },
  {
   "cell_type": "code",
   "execution_count": 2,
   "id": "3bd9fcf4",
   "metadata": {},
   "outputs": [
    {
     "name": "stdout",
     "output_type": "stream",
     "text": [
      "10\n",
      "20\n",
      "pazartesi\n"
     ]
    },
    {
     "data": {
      "text/plain": [
       "str"
      ]
     },
     "execution_count": 2,
     "metadata": {},
     "output_type": "execute_result"
    }
   ],
   "source": [
    "a=10\n",
    "var1=20\n",
    "x=\"pazartesi\"\n",
    "\n",
    "print(a)\n",
    "print(var1)\n",
    "print(x)\n",
    "type(x)"
   ]
  },
  {
   "cell_type": "code",
   "execution_count": 3,
   "id": "28af5ea1",
   "metadata": {},
   "outputs": [
    {
     "name": "stdout",
     "output_type": "stream",
     "text": [
      "[10, 20, 30]\n"
     ]
    }
   ],
   "source": [
    "#DEFİNE A LİST\n",
    "var1=10\n",
    "var2=20\n",
    "var3=30\n",
    "list_int=[10,20,30]\n",
    "print(list_int)"
   ]
  },
  {
   "cell_type": "code",
   "execution_count": 4,
   "id": "ece954b5",
   "metadata": {},
   "outputs": [
    {
     "data": {
      "text/plain": [
       "10"
      ]
     },
     "execution_count": 4,
     "metadata": {},
     "output_type": "execute_result"
    }
   ],
   "source": [
    "#First element of the list\n",
    "list_int[0]"
   ]
  },
  {
   "cell_type": "code",
   "execution_count": 5,
   "id": "b7125126",
   "metadata": {},
   "outputs": [
    {
     "data": {
      "text/plain": [
       "30"
      ]
     },
     "execution_count": 5,
     "metadata": {},
     "output_type": "execute_result"
    }
   ],
   "source": [
    "#Last element of the list\n",
    "list_int[-1]"
   ]
  },
  {
   "cell_type": "code",
   "execution_count": 6,
   "id": "dd332c3c",
   "metadata": {},
   "outputs": [
    {
     "data": {
      "text/plain": [
       "[10, 20, 30]"
      ]
     },
     "execution_count": 6,
     "metadata": {},
     "output_type": "execute_result"
    }
   ],
   "source": [
    "#variables in the range of list\n",
    "list_int[0:3]"
   ]
  },
  {
   "cell_type": "code",
   "execution_count": 7,
   "id": "c7a7c042",
   "metadata": {},
   "outputs": [
    {
     "name": "stdout",
     "output_type": "stream",
     "text": [
      "[10, 20, 30, 25]\n"
     ]
    }
   ],
   "source": [
    "#to add variables to the list\n",
    "list_int.append(25)\n",
    "print(list_int)"
   ]
  },
  {
   "cell_type": "code",
   "execution_count": 8,
   "id": "ba915d02",
   "metadata": {},
   "outputs": [
    {
     "name": "stdout",
     "output_type": "stream",
     "text": [
      "[10, 20, 30]\n"
     ]
    }
   ],
   "source": [
    "#to delete variables to the list \n",
    "list_int.remove(25)\n",
    "print(list_int)"
   ]
  },
  {
   "cell_type": "code",
   "execution_count": 9,
   "id": "8136c4df",
   "metadata": {},
   "outputs": [
    {
     "name": "stdout",
     "output_type": "stream",
     "text": [
      "[30, 20, 10]\n"
     ]
    }
   ],
   "source": [
    "#to print the list in reverse\n",
    "list_int.reverse()\n",
    "print(list_int)"
   ]
  },
  {
   "cell_type": "code",
   "execution_count": 10,
   "id": "0fc79491",
   "metadata": {},
   "outputs": [
    {
     "name": "stdout",
     "output_type": "stream",
     "text": [
      "[10, 20, 30]\n"
     ]
    }
   ],
   "source": [
    "#to sort the list from smallest to largest\n",
    "list_int.sort()\n",
    "print(list_int)"
   ]
  },
  {
   "cell_type": "markdown",
   "id": "c5d2eea0",
   "metadata": {},
   "source": [
    "**if-else-while loop examples**"
   ]
  },
  {
   "cell_type": "code",
   "execution_count": 11,
   "id": "55b76fb0",
   "metadata": {},
   "outputs": [
    {
     "name": "stdout",
     "output_type": "stream",
     "text": [
      "30\n"
     ]
    }
   ],
   "source": [
    "#to find maximum element with for loop\n",
    "x=10\n",
    "for each in list_int:\n",
    "    if(each>x):\n",
    "        x=each\n",
    "    else:\n",
    "        continue\n",
    "print(x)"
   ]
  },
  {
   "cell_type": "code",
   "execution_count": 12,
   "id": "508552ec",
   "metadata": {},
   "outputs": [
    {
     "name": "stdout",
     "output_type": "stream",
     "text": [
      "0\n",
      "1\n",
      "2\n",
      "3\n",
      "4\n"
     ]
    }
   ],
   "source": [
    "#to print from 0 to 5 with while loop(5 is not included)\n",
    "i=0\n",
    "while(i<5):\n",
    "    print(i)\n",
    "    i=i+1"
   ]
  },
  {
   "cell_type": "code",
   "execution_count": 13,
   "id": "c75f1d51",
   "metadata": {},
   "outputs": [
    {
     "data": {
      "text/plain": [
       "12.56"
      ]
     },
     "execution_count": 13,
     "metadata": {},
     "output_type": "execute_result"
    }
   ],
   "source": [
    "#to use function\n",
    "def cember_cevre(r,pi=3.14):  #Pi is default value\n",
    "    result=2*pi*r\n",
    "    return result\n",
    "cember_cevre(2)                #to send value "
   ]
  },
  {
   "cell_type": "code",
   "execution_count": 14,
   "id": "0743b9e0",
   "metadata": {},
   "outputs": [
    {
     "data": {
      "text/plain": [
       "25"
      ]
     },
     "execution_count": 14,
     "metadata": {},
     "output_type": "execute_result"
    }
   ],
   "source": [
    "#another example for function\n",
    "def hesapla(x):\n",
    "    result=x*x\n",
    "    return result\n",
    "hesapla(5)"
   ]
  },
  {
   "cell_type": "code",
   "execution_count": 15,
   "id": "6015b1d0",
   "metadata": {},
   "outputs": [
    {
     "name": "stdout",
     "output_type": "stream",
     "text": [
      "25\n"
     ]
    }
   ],
   "source": [
    "#Shorter way to use function is lambda \n",
    "result=lambda x:x*x\n",
    "print(result(5))"
   ]
  },
  {
   "cell_type": "code",
   "execution_count": 16,
   "id": "c90549e2",
   "metadata": {},
   "outputs": [
    {
     "name": "stdout",
     "output_type": "stream",
     "text": [
      "{'betül': 23, 'beyza': 20, 'irem': 25}\n"
     ]
    }
   ],
   "source": [
    "#to use dictionary\n",
    "dictionary={\"betül\":23,\"beyza\":20,\"irem\":25} #keys&values\n",
    "print(dictionary)"
   ]
  },
  {
   "cell_type": "code",
   "execution_count": 17,
   "id": "f326ef9e",
   "metadata": {},
   "outputs": [
    {
     "data": {
      "text/plain": [
       "dict"
      ]
     },
     "execution_count": 17,
     "metadata": {},
     "output_type": "execute_result"
    }
   ],
   "source": [
    "type(dictionary)"
   ]
  },
  {
   "cell_type": "code",
   "execution_count": 18,
   "id": "209a2962",
   "metadata": {},
   "outputs": [
    {
     "data": {
      "text/plain": [
       "dict_keys(['betül', 'beyza', 'irem'])"
      ]
     },
     "execution_count": 18,
     "metadata": {},
     "output_type": "execute_result"
    }
   ],
   "source": [
    "dictionary.keys()"
   ]
  },
  {
   "cell_type": "code",
   "execution_count": 19,
   "id": "0c60c89b",
   "metadata": {},
   "outputs": [
    {
     "name": "stdout",
     "output_type": "stream",
     "text": [
      "yes\n"
     ]
    }
   ],
   "source": [
    "#to find out if the keys is in the dictionary\n",
    "b=dictionary.keys()\n",
    "\n",
    "if \"betül\" in b:\n",
    "    print(\"yes\")\n",
    "else:\n",
    "    print(\"no\")"
   ]
  }
 ],
 "metadata": {
  "kernelspec": {
   "display_name": "Python 3 (ipykernel)",
   "language": "python",
   "name": "python3"
  },
  "language_info": {
   "codemirror_mode": {
    "name": "ipython",
    "version": 3
   },
   "file_extension": ".py",
   "mimetype": "text/x-python",
   "name": "python",
   "nbconvert_exporter": "python",
   "pygments_lexer": "ipython3",
   "version": "3.11.5"
  }
 },
 "nbformat": 4,
 "nbformat_minor": 5
}
